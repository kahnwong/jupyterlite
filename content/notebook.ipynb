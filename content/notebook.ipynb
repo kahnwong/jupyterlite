{
 "cells": [
  {
   "cell_type": "markdown",
   "metadata": {},
   "source": [
    "## Pandas DataFrame"
   ]
  },
  {
   "cell_type": "code",
   "execution_count": null,
   "metadata": {},
   "outputs": [],
   "source": [
    "import pandas as pd\n",
    "import numpy as np\n",
    "from string import ascii_uppercase as letters\n",
    "from IPython.display import display\n",
    "\n",
    "df = pd.DataFrame(\n",
    "    np.random.randint(0, 100, size=(100, len(letters))), columns=list(letters)\n",
    ")\n",
    "df"
   ]
  },
  {
   "cell_type": "markdown",
   "metadata": {},
   "source": [
    "## IPython.display module"
   ]
  },
  {
   "cell_type": "code",
   "execution_count": null,
   "metadata": {},
   "outputs": [],
   "source": [
    "from IPython.display import JSON\n",
    "\n",
    "JSON([\"foo\", {\"bar\": (\"baz\", None, 1.0, 2)}], metadata={}, expanded=True, root=\"test\")"
   ]
  }
 ],
 "metadata": {
  "kernelspec": {
   "display_name": "jupyterlite-i-MIqXjD",
   "language": "python",
   "name": "python3"
  },
  "language_info": {
   "codemirror_mode": {
    "name": "ipython",
    "version": 3
   },
   "file_extension": ".py",
   "mimetype": "text/x-python",
   "name": "python",
   "nbconvert_exporter": "python",
   "pygments_lexer": "ipython3",
   "version": "3.11.2"
  }
 },
 "nbformat": 4,
 "nbformat_minor": 4
}
